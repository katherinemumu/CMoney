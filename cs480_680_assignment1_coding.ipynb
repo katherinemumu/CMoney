{
  "nbformat": 4,
  "nbformat_minor": 0,
  "metadata": {
    "colab": {
      "provenance": [],
      "include_colab_link": true
    },
    "kernelspec": {
      "name": "python3",
      "display_name": "Python 3"
    },
    "language_info": {
      "name": "python"
    }
  },
  "cells": [
    {
      "cell_type": "markdown",
      "metadata": {
        "id": "view-in-github",
        "colab_type": "text"
      },
      "source": [
        "<a href=\"https://colab.research.google.com/github/katherinemumu/CMoney/blob/master/cs480_680_assignment1_coding.ipynb\" target=\"_parent\"><img src=\"https://colab.research.google.com/assets/colab-badge.svg\" alt=\"Open In Colab\"/></a>"
      ]
    },
    {
      "cell_type": "markdown",
      "source": [
        "# CS 480/680 assignment 1 (coding part)\n"
      ],
      "metadata": {
        "id": "n2dYlHWRAA1a"
      }
    },
    {
      "cell_type": "markdown",
      "source": [
        "- Please save a copy of this notebook to avoid losing your changes.\n",
        "- Debug your code and ensure that it can run before submission.\n",
        "- Save the output of each cell. Failure to do so may result in your coding questions not being graded.\n",
        "- Submit your completed version of this notebook.\n",
        "\n"
      ],
      "metadata": {
        "id": "IuEDzbbiAcXo"
      }
    },
    {
      "cell_type": "markdown",
      "source": [
        "## Question 1-2\n",
        "\n",
        "In this question, you are asked to implement the perceptron algorithm on the Spambase dataset. Please refer to the [dataset webpage](https://archive.ics.uci.edu/ml/datasets/spambase) for details on the dataset, and consult the lecture slides and suggested readings for details on the perceptron algorithm.\n",
        "\n",
        "- Please note that `is_spam` is the label of the dataset. The labellings are 0/1 instead of -1/1 (which was used for the perceptron covered in class).\n",
        "- Recording the accuracy after every step may be costly, therefore you can instead record the accuracy every $x$ steps, where $x$ can be 100, 1000, your training set size, 4601 (the size of the dataset), or any other value you find appropriate.\n",
        "- It is recommended that you split the dataset into training/validation/testing datasets, but we will not deduct marks if you don't.\n",
        "- You will get full marks for \n",
        "    - Correct implementation of the perceptron algorithm\n",
        "    - An accuracy (on the validation dataset, if you splitted the dataset) vs number of training steps plot that relects the progress of the training\n",
        "    - Final reported accuracy (on the testing dataset, if you splitted the dataset)"
      ],
      "metadata": {
        "id": "hu7upEwVALqo"
      }
    },
    {
      "cell_type": "code",
      "execution_count": null,
      "metadata": {
        "id": "gl0lxf-V-LYF"
      },
      "outputs": [],
      "source": [
        "import urllib.request\n",
        "import pandas as pd\n",
        "# TODO: add any other package you need\n",
        "\n",
        "# Download the dataset\n",
        "url = 'https://archive.ics.uci.edu/ml/machine-learning-databases/spambase/spambase.data'\n",
        "filename = 'spambase.csv'\n",
        "urllib.request.urlretrieve(url, filename)\n",
        "\n",
        "# Load the dataset into a Pandas dataframe\n",
        "column_names = [\n",
        "    'word_freq_make', 'word_freq_address', 'word_freq_all', 'word_freq_3d',\n",
        "    'word_freq_our', 'word_freq_over', 'word_freq_remove', 'word_freq_internet',\n",
        "    'word_freq_order', 'word_freq_mail', 'word_freq_receive', 'word_freq_will',\n",
        "    'word_freq_people', 'word_freq_report', 'word_freq_addresses',\n",
        "    'word_freq_free', 'word_freq_business', 'word_freq_email', 'word_freq_you',\n",
        "    'word_freq_credit', 'word_freq_your', 'word_freq_font', 'word_freq_000',\n",
        "    'word_freq_money', 'word_freq_hp', 'word_freq_hpl', 'word_freq_george',\n",
        "    'word_freq_650', 'word_freq_lab', 'word_freq_labs', 'word_freq_telnet',\n",
        "    'word_freq_857', 'word_freq_data', 'word_freq_415', 'word_freq_85',\n",
        "    'word_freq_technology', 'word_freq_1999', 'word_freq_parts',\n",
        "    'word_freq_pm', 'word_freq_direct', 'word_freq_cs', 'word_freq_meeting',\n",
        "    'word_freq_original', 'word_freq_project', 'word_freq_re',\n",
        "    'word_freq_edu', 'word_freq_table', 'word_freq_conference', 'char_freq_;',\n",
        "    'char_freq_(', 'char_freq_[', 'char_freq_!', 'char_freq_$',\n",
        "    'char_freq_#', 'capital_run_length_average', 'capital_run_length_longest',\n",
        "    'capital_run_length_total', 'is_spam'\n",
        "]\n",
        "data = pd.read_csv(filename, names=column_names)\n"
      ]
    },
    {
      "cell_type": "code",
      "source": [
        "# TODO: your implementation"
      ],
      "metadata": {
        "id": "xJ6Xw9T-CHQg"
      },
      "execution_count": null,
      "outputs": []
    },
    {
      "cell_type": "code",
      "source": [
        "# TODO: plot the accuracy against the number of steps\n",
        "# TODO: report the final accuracy"
      ],
      "metadata": {
        "id": "hy2lir66C2AJ"
      },
      "execution_count": null,
      "outputs": []
    }
  ]
}